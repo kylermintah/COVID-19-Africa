{
  "nbformat": 4,
  "nbformat_minor": 0,
  "metadata": {
    "colab": {
      "name": "EDA.ipynb",
      "provenance": [],
      "collapsed_sections": [],
      "mount_file_id": "1wrLRTCy9djqY3e7f-yacyQFI4bZ1hE8J",
      "authorship_tag": "ABX9TyPMzdhUz4WQ84ROadoIMcTJ",
      "include_colab_link": true
    },
    "kernelspec": {
      "name": "python3",
      "display_name": "Python 3"
    }
  },
  "cells": [
    {
      "cell_type": "markdown",
      "metadata": {
        "id": "view-in-github",
        "colab_type": "text"
      },
      "source": [
        "<a href=\"https://colab.research.google.com/github/kylermintah/ExploratoryDataAnalysis/blob/master/EDA.ipynb\" target=\"_parent\"><img src=\"https://colab.research.google.com/assets/colab-badge.svg\" alt=\"Open In Colab\"/></a>"
      ]
    },
    {
      "cell_type": "markdown",
      "metadata": {
        "id": "6NrMzF9Dt6E_",
        "colab_type": "text"
      },
      "source": [
        "# Exploratory Data Analysis - How Africa is Responding to the Pandemic\n",
        "\n",
        "The purpose of this Colab is to investigate the non-sympotmatic risk-factors associated with COVID-19 within the context of Sub-Saharan Africa. Much research has been done on the symptoms associated with the disease, but there is still information wanting regarding which non-symptom related factors have the strongest influence on economics, transmission and patient outcomes within the African context.\n",
        "\n",
        "![alt text](https://www.aljazeera.com/mritems/imagecache/mbdxxlarge/mritems/Images/2020/4/13/9209cd91c589418caabc698e0d5eabf5_18.jpg)\n"
      ]
    },
    {
      "cell_type": "markdown",
      "metadata": {
        "id": "wLdD4cTgur21",
        "colab_type": "text"
      },
      "source": [
        "###Setup"
      ]
    },
    {
      "cell_type": "code",
      "metadata": {
        "id": "-8TThZG84NFJ",
        "colab_type": "code",
        "colab": {}
      },
      "source": [
        "%%capture\n",
        "!pip install pandasql\n",
        "!pip install chart-studio\n",
        "!pip install sqlalchemy\n",
        "!pip install sqlite3"
      ],
      "execution_count": 0,
      "outputs": []
    },
    {
      "cell_type": "code",
      "metadata": {
        "id": "1iToL-gc4guu",
        "colab_type": "code",
        "colab": {}
      },
      "source": [
        "import numpy as np\n",
        "import pandas as pd\n",
        "import sqlite3\n",
        "import matplotlib\n",
        "import time # Time conversions\n",
        "from wordcloud import WordCloud\n",
        "from pandasql import sqldf\n",
        "import matplotlib.pyplot as plt\n",
        "from sqlalchemy.engine import Engine as eng"
      ],
      "execution_count": 0,
      "outputs": []
    },
    {
      "cell_type": "code",
      "metadata": {
        "id": "EIyIIOQ14jJq",
        "colab_type": "code",
        "colab": {}
      },
      "source": [
        "#African Dataset - src: https://data.humdata.org/m/dataset/covid-19-impacts-africa?force_layout=light\n",
        "#Importing a dataset version from my github\n",
        "git_url_africa_1 = \"https://raw.githubusercontent.com/kylermintah/ExploratoryDataAnalysis/master/Africa/geopoll-coronavirus-round2-data_weighted_2020-04-30_final.csv\"\n",
        "africa_df = pd.read_csv(git_url_africa_1)"
      ],
      "execution_count": 0,
      "outputs": []
    },
    {
      "cell_type": "markdown",
      "metadata": {
        "id": "GZdk3Ep2t5Mq",
        "colab_type": "text"
      },
      "source": [
        ""
      ]
    },
    {
      "cell_type": "code",
      "metadata": {
        "id": "FfGWPemE4vcz",
        "colab_type": "code",
        "colab": {
          "base_uri": "https://localhost:8080/",
          "height": 484
        },
        "outputId": "cb4f2f05-7664-421e-e844-6d55d20bf5e6"
      },
      "source": [
        "africa_df.head()"
      ],
      "execution_count": 74,
      "outputs": [
        {
          "output_type": "execute_result",
          "data": {
            "text/html": [
              "<div>\n",
              "<style scoped>\n",
              "    .dataframe tbody tr th:only-of-type {\n",
              "        vertical-align: middle;\n",
              "    }\n",
              "\n",
              "    .dataframe tbody tr th {\n",
              "        vertical-align: top;\n",
              "    }\n",
              "\n",
              "    .dataframe thead th {\n",
              "        text-align: right;\n",
              "    }\n",
              "</style>\n",
              "<table border=\"1\" class=\"dataframe\">\n",
              "  <thead>\n",
              "    <tr style=\"text-align: right;\">\n",
              "      <th></th>\n",
              "      <th>Gender.Weights</th>\n",
              "      <th>Age Group.Weights</th>\n",
              "      <th>ADM1.Weights</th>\n",
              "      <th>Total Weights</th>\n",
              "      <th>Survey Date</th>\n",
              "      <th>Country</th>\n",
              "      <th>Gender</th>\n",
              "      <th>Age Group</th>\n",
              "      <th>Admin1</th>\n",
              "      <th>SEC</th>\n",
              "      <th>Age</th>\n",
              "      <th>BirthYear</th>\n",
              "      <th>Awareness</th>\n",
              "      <th>Urban/Rural</th>\n",
              "      <th>BiggestChallenge</th>\n",
              "      <th>LevelConcern</th>\n",
              "      <th>Concerns</th>\n",
              "      <th>RiskAwareness</th>\n",
              "      <th>Tested</th>\n",
              "      <th>VirusPrevention</th>\n",
              "      <th>PreventativeMeasures: Avoiding public places</th>\n",
              "      <th>PreventativeMeasures: Avoiding public transport</th>\n",
              "      <th>PreventativeMeasures: Increasing hygiene</th>\n",
              "      <th>PreventativeMeasures: Other</th>\n",
              "      <th>PreventativeMeasures: Working from home</th>\n",
              "      <th>HandWashing</th>\n",
              "      <th>SocialDistancing</th>\n",
              "      <th>HealthBehavior</th>\n",
              "      <th>EconomicImpact</th>\n",
              "      <th>MarketOperability</th>\n",
              "      <th>FoodLocations</th>\n",
              "      <th>FoodLocations2</th>\n",
              "      <th>FoodShopping</th>\n",
              "      <th>FoodAmount</th>\n",
              "      <th>Foodworry</th>\n",
              "      <th>BrandPurchase</th>\n",
              "      <th>NonEssentialItems</th>\n",
              "      <th>GovernmentTrust</th>\n",
              "      <th>CommercialTrust: Banks</th>\n",
              "      <th>CommercialTrust: Brands</th>\n",
              "      <th>CommercialTrust: Other</th>\n",
              "      <th>CommercialTrust: Retailers</th>\n",
              "      <th>CommercialTrust: Telecommuncations</th>\n",
              "      <th>InitiativeTaken: Limited store traffic</th>\n",
              "      <th>InitiativeTaken: None</th>\n",
              "      <th>InitiativeTaken: Sectioned intercepts</th>\n",
              "      <th>InitiativeTaken: Staff in protective gear</th>\n",
              "      <th>Groups: Brands</th>\n",
              "      <th>Groups: Governments</th>\n",
              "      <th>Groups: NGOs</th>\n",
              "      <th>Groups: Private Sector</th>\n",
              "      <th>Groups: Retailers</th>\n",
              "      <th>InformationSources: Friends/family</th>\n",
              "      <th>InformationSources: Government messages</th>\n",
              "      <th>InformationSources: Newspapers</th>\n",
              "      <th>InformationSources: Other</th>\n",
              "      <th>InformationSources: Radio</th>\n",
              "      <th>InformationSources: Social Media</th>\n",
              "      <th>InformationSources: TV</th>\n",
              "      <th>SocialMedia</th>\n",
              "      <th>MediaConsumption</th>\n",
              "      <th>StayPositive</th>\n",
              "    </tr>\n",
              "  </thead>\n",
              "  <tbody>\n",
              "    <tr>\n",
              "      <th>0</th>\n",
              "      <td>0.9</td>\n",
              "      <td>1.1</td>\n",
              "      <td>1.0</td>\n",
              "      <td>1.04</td>\n",
              "      <td>04/02/2020</td>\n",
              "      <td>Kenya</td>\n",
              "      <td>Male</td>\n",
              "      <td>15-25</td>\n",
              "      <td>Machakos</td>\n",
              "      <td>B</td>\n",
              "      <td>20</td>\n",
              "      <td>1999</td>\n",
              "      <td>Yes</td>\n",
              "      <td>Rural area</td>\n",
              "      <td>Corona</td>\n",
              "      <td>5</td>\n",
              "      <td>Contracting the disease</td>\n",
              "      <td>Yes</td>\n",
              "      <td>No</td>\n",
              "      <td>Yes</td>\n",
              "      <td>False</td>\n",
              "      <td>False</td>\n",
              "      <td>False</td>\n",
              "      <td>False</td>\n",
              "      <td>True</td>\n",
              "      <td>More than 5 times</td>\n",
              "      <td>No</td>\n",
              "      <td>Go to hospital</td>\n",
              "      <td>5</td>\n",
              "      <td>All are open</td>\n",
              "      <td>Yes</td>\n",
              "      <td>Online</td>\n",
              "      <td>Less often than usual</td>\n",
              "      <td>Smaller packsize than usual</td>\n",
              "      <td>Yes</td>\n",
              "      <td>Switch to an alterative brand because it is ch...</td>\n",
              "      <td>Decreased</td>\n",
              "      <td>1</td>\n",
              "      <td>True</td>\n",
              "      <td>False</td>\n",
              "      <td>False</td>\n",
              "      <td>False</td>\n",
              "      <td>False</td>\n",
              "      <td>False</td>\n",
              "      <td>False</td>\n",
              "      <td>False</td>\n",
              "      <td>False</td>\n",
              "      <td>False</td>\n",
              "      <td>False</td>\n",
              "      <td>True</td>\n",
              "      <td>False</td>\n",
              "      <td>False</td>\n",
              "      <td>False</td>\n",
              "      <td>True</td>\n",
              "      <td>False</td>\n",
              "      <td>False</td>\n",
              "      <td>False</td>\n",
              "      <td>False</td>\n",
              "      <td>False</td>\n",
              "      <td>NaN</td>\n",
              "      <td>Consuming more</td>\n",
              "      <td>Nothing</td>\n",
              "    </tr>\n",
              "    <tr>\n",
              "      <th>1</th>\n",
              "      <td>0.9</td>\n",
              "      <td>0.9</td>\n",
              "      <td>1.0</td>\n",
              "      <td>0.85</td>\n",
              "      <td>04/02/2020</td>\n",
              "      <td>Kenya</td>\n",
              "      <td>Male</td>\n",
              "      <td>26-35</td>\n",
              "      <td>Uasin Gishu</td>\n",
              "      <td>C1</td>\n",
              "      <td>28</td>\n",
              "      <td>1991</td>\n",
              "      <td>Yes</td>\n",
              "      <td>Urban area</td>\n",
              "      <td>High prices of goods</td>\n",
              "      <td>5</td>\n",
              "      <td>Local infections</td>\n",
              "      <td>No</td>\n",
              "      <td>No</td>\n",
              "      <td>Yes</td>\n",
              "      <td>True</td>\n",
              "      <td>False</td>\n",
              "      <td>True</td>\n",
              "      <td>False</td>\n",
              "      <td>False</td>\n",
              "      <td>More than 5 times</td>\n",
              "      <td>No</td>\n",
              "      <td>Stay home</td>\n",
              "      <td>3</td>\n",
              "      <td>Most are open</td>\n",
              "      <td>No</td>\n",
              "      <td>NaN</td>\n",
              "      <td>Same as usual [no change]</td>\n",
              "      <td>Bigger packsize than usual</td>\n",
              "      <td>No</td>\n",
              "      <td>NaN</td>\n",
              "      <td>Decreased</td>\n",
              "      <td>2</td>\n",
              "      <td>True</td>\n",
              "      <td>False</td>\n",
              "      <td>False</td>\n",
              "      <td>False</td>\n",
              "      <td>True</td>\n",
              "      <td>False</td>\n",
              "      <td>False</td>\n",
              "      <td>False</td>\n",
              "      <td>True</td>\n",
              "      <td>True</td>\n",
              "      <td>True</td>\n",
              "      <td>True</td>\n",
              "      <td>True</td>\n",
              "      <td>True</td>\n",
              "      <td>False</td>\n",
              "      <td>True</td>\n",
              "      <td>False</td>\n",
              "      <td>False</td>\n",
              "      <td>False</td>\n",
              "      <td>True</td>\n",
              "      <td>True</td>\n",
              "      <td>Media outlets</td>\n",
              "      <td>Consuming more</td>\n",
              "      <td>Hope</td>\n",
              "    </tr>\n",
              "    <tr>\n",
              "      <th>2</th>\n",
              "      <td>1.0</td>\n",
              "      <td>1.0</td>\n",
              "      <td>0.8</td>\n",
              "      <td>0.80</td>\n",
              "      <td>04/02/2020</td>\n",
              "      <td>Nigeria</td>\n",
              "      <td>Male</td>\n",
              "      <td>15-25</td>\n",
              "      <td>Benue</td>\n",
              "      <td>A</td>\n",
              "      <td>20</td>\n",
              "      <td>1999</td>\n",
              "      <td>Yes</td>\n",
              "      <td>Urban area</td>\n",
              "      <td>Light</td>\n",
              "      <td>5</td>\n",
              "      <td>Contracting the disease</td>\n",
              "      <td>Yes</td>\n",
              "      <td>No</td>\n",
              "      <td>Yes</td>\n",
              "      <td>False</td>\n",
              "      <td>False</td>\n",
              "      <td>False</td>\n",
              "      <td>False</td>\n",
              "      <td>True</td>\n",
              "      <td>More than 5 times</td>\n",
              "      <td>Yes</td>\n",
              "      <td>Go to hospital</td>\n",
              "      <td>4</td>\n",
              "      <td>Most are closed</td>\n",
              "      <td>No</td>\n",
              "      <td>NaN</td>\n",
              "      <td>Less often than usual</td>\n",
              "      <td>Bigger packsize than usual</td>\n",
              "      <td>No</td>\n",
              "      <td>NaN</td>\n",
              "      <td>Decreased</td>\n",
              "      <td>4</td>\n",
              "      <td>True</td>\n",
              "      <td>False</td>\n",
              "      <td>False</td>\n",
              "      <td>False</td>\n",
              "      <td>False</td>\n",
              "      <td>False</td>\n",
              "      <td>False</td>\n",
              "      <td>False</td>\n",
              "      <td>False</td>\n",
              "      <td>False</td>\n",
              "      <td>False</td>\n",
              "      <td>True</td>\n",
              "      <td>False</td>\n",
              "      <td>False</td>\n",
              "      <td>False</td>\n",
              "      <td>False</td>\n",
              "      <td>False</td>\n",
              "      <td>False</td>\n",
              "      <td>False</td>\n",
              "      <td>True</td>\n",
              "      <td>False</td>\n",
              "      <td>Health organizations</td>\n",
              "      <td>Consuming more</td>\n",
              "      <td>Will go back to school soon</td>\n",
              "    </tr>\n",
              "    <tr>\n",
              "      <th>3</th>\n",
              "      <td>0.9</td>\n",
              "      <td>0.9</td>\n",
              "      <td>1.0</td>\n",
              "      <td>0.82</td>\n",
              "      <td>04/02/2020</td>\n",
              "      <td>Kenya</td>\n",
              "      <td>Male</td>\n",
              "      <td>26-35</td>\n",
              "      <td>Kisii</td>\n",
              "      <td>C1</td>\n",
              "      <td>32</td>\n",
              "      <td>1987</td>\n",
              "      <td>Yes</td>\n",
              "      <td>Rural area</td>\n",
              "      <td>The outbreak of covid-19</td>\n",
              "      <td>5</td>\n",
              "      <td>Contracting the disease</td>\n",
              "      <td>Yes</td>\n",
              "      <td>No</td>\n",
              "      <td>Yes</td>\n",
              "      <td>False</td>\n",
              "      <td>False</td>\n",
              "      <td>True</td>\n",
              "      <td>False</td>\n",
              "      <td>False</td>\n",
              "      <td>More than 5 times</td>\n",
              "      <td>No</td>\n",
              "      <td>Go to hospital</td>\n",
              "      <td>5</td>\n",
              "      <td>Most are closed</td>\n",
              "      <td>No</td>\n",
              "      <td>NaN</td>\n",
              "      <td>Less often than usual</td>\n",
              "      <td>Bigger packsize than usual</td>\n",
              "      <td>Yes</td>\n",
              "      <td>Switch to an alterative brand because it is ch...</td>\n",
              "      <td>Decreased</td>\n",
              "      <td>4</td>\n",
              "      <td>False</td>\n",
              "      <td>False</td>\n",
              "      <td>True</td>\n",
              "      <td>False</td>\n",
              "      <td>False</td>\n",
              "      <td>False</td>\n",
              "      <td>False</td>\n",
              "      <td>False</td>\n",
              "      <td>False</td>\n",
              "      <td>True</td>\n",
              "      <td>True</td>\n",
              "      <td>True</td>\n",
              "      <td>True</td>\n",
              "      <td>True</td>\n",
              "      <td>False</td>\n",
              "      <td>True</td>\n",
              "      <td>True</td>\n",
              "      <td>False</td>\n",
              "      <td>True</td>\n",
              "      <td>True</td>\n",
              "      <td>True</td>\n",
              "      <td>Health organizations</td>\n",
              "      <td>Consuming more</td>\n",
              "      <td>the covid 19 outbreak has not been confirmed i...</td>\n",
              "    </tr>\n",
              "    <tr>\n",
              "      <th>4</th>\n",
              "      <td>0.9</td>\n",
              "      <td>1.1</td>\n",
              "      <td>1.0</td>\n",
              "      <td>0.98</td>\n",
              "      <td>04/02/2020</td>\n",
              "      <td>Kenya</td>\n",
              "      <td>Male</td>\n",
              "      <td>15-25</td>\n",
              "      <td>Nandi</td>\n",
              "      <td>B</td>\n",
              "      <td>25</td>\n",
              "      <td>1994</td>\n",
              "      <td>Yes</td>\n",
              "      <td>Rural area</td>\n",
              "      <td>no job and income due to corona pandemic</td>\n",
              "      <td>5</td>\n",
              "      <td>Economic impact</td>\n",
              "      <td>No</td>\n",
              "      <td>No</td>\n",
              "      <td>Yes</td>\n",
              "      <td>False</td>\n",
              "      <td>False</td>\n",
              "      <td>True</td>\n",
              "      <td>False</td>\n",
              "      <td>False</td>\n",
              "      <td>3-5 times</td>\n",
              "      <td>Yes</td>\n",
              "      <td>Go to hospital</td>\n",
              "      <td>5</td>\n",
              "      <td>Most are closed</td>\n",
              "      <td>Yes</td>\n",
              "      <td>Wholesalers</td>\n",
              "      <td>Less often than usual</td>\n",
              "      <td>Same as usual</td>\n",
              "      <td>Yes</td>\n",
              "      <td>Switch to an alterative brand because it is ch...</td>\n",
              "      <td>Decreased</td>\n",
              "      <td>5</td>\n",
              "      <td>True</td>\n",
              "      <td>False</td>\n",
              "      <td>False</td>\n",
              "      <td>False</td>\n",
              "      <td>False</td>\n",
              "      <td>False</td>\n",
              "      <td>False</td>\n",
              "      <td>False</td>\n",
              "      <td>False</td>\n",
              "      <td>False</td>\n",
              "      <td>True</td>\n",
              "      <td>False</td>\n",
              "      <td>False</td>\n",
              "      <td>False</td>\n",
              "      <td>False</td>\n",
              "      <td>False</td>\n",
              "      <td>False</td>\n",
              "      <td>False</td>\n",
              "      <td>False</td>\n",
              "      <td>True</td>\n",
              "      <td>False</td>\n",
              "      <td>Media outlets</td>\n",
              "      <td>Consuming less</td>\n",
              "      <td>talking to peaple and watching movies  playing...</td>\n",
              "    </tr>\n",
              "  </tbody>\n",
              "</table>\n",
              "</div>"
            ],
            "text/plain": [
              "   Gender.Weights  ...                                       StayPositive\n",
              "0             0.9  ...                                            Nothing\n",
              "1             0.9  ...                                               Hope\n",
              "2             1.0  ...                        Will go back to school soon\n",
              "3             0.9  ...  the covid 19 outbreak has not been confirmed i...\n",
              "4             0.9  ...  talking to peaple and watching movies  playing...\n",
              "\n",
              "[5 rows x 62 columns]"
            ]
          },
          "metadata": {
            "tags": []
          },
          "execution_count": 74
        }
      ]
    },
    {
      "cell_type": "markdown",
      "metadata": {
        "id": "UWpuluGcoycL",
        "colab_type": "text"
      },
      "source": [
        "## Quick General Analysis\n",
        "I will drop any columns for the purposes of this analysis that do not lend themselves to quantitative analyses involving means, counts etc."
      ]
    },
    {
      "cell_type": "code",
      "metadata": {
        "id": "AmfUuxTBoq3-",
        "colab_type": "code",
        "colab": {
          "base_uri": "https://localhost:8080/",
          "height": 324
        },
        "outputId": "2ff09af5-21b8-45b3-a9c8-f8921116298b"
      },
      "source": [
        "africa_df.describe()"
      ],
      "execution_count": 75,
      "outputs": [
        {
          "output_type": "execute_result",
          "data": {
            "text/html": [
              "<div>\n",
              "<style scoped>\n",
              "    .dataframe tbody tr th:only-of-type {\n",
              "        vertical-align: middle;\n",
              "    }\n",
              "\n",
              "    .dataframe tbody tr th {\n",
              "        vertical-align: top;\n",
              "    }\n",
              "\n",
              "    .dataframe thead th {\n",
              "        text-align: right;\n",
              "    }\n",
              "</style>\n",
              "<table border=\"1\" class=\"dataframe\">\n",
              "  <thead>\n",
              "    <tr style=\"text-align: right;\">\n",
              "      <th></th>\n",
              "      <th>Gender.Weights</th>\n",
              "      <th>Age Group.Weights</th>\n",
              "      <th>ADM1.Weights</th>\n",
              "      <th>Total Weights</th>\n",
              "      <th>Age</th>\n",
              "      <th>BirthYear</th>\n",
              "      <th>LevelConcern</th>\n",
              "      <th>EconomicImpact</th>\n",
              "      <th>GovernmentTrust</th>\n",
              "    </tr>\n",
              "  </thead>\n",
              "  <tbody>\n",
              "    <tr>\n",
              "      <th>count</th>\n",
              "      <td>3988.000000</td>\n",
              "      <td>3988.000000</td>\n",
              "      <td>3988.000000</td>\n",
              "      <td>3988.000000</td>\n",
              "      <td>3988.000000</td>\n",
              "      <td>3988.000000</td>\n",
              "      <td>3988.000000</td>\n",
              "      <td>3988.000000</td>\n",
              "      <td>3988.000000</td>\n",
              "    </tr>\n",
              "    <tr>\n",
              "      <th>mean</th>\n",
              "      <td>1.002533</td>\n",
              "      <td>0.997091</td>\n",
              "      <td>0.999398</td>\n",
              "      <td>0.988112</td>\n",
              "      <td>31.289870</td>\n",
              "      <td>1987.710130</td>\n",
              "      <td>4.312939</td>\n",
              "      <td>4.285607</td>\n",
              "      <td>3.454614</td>\n",
              "    </tr>\n",
              "    <tr>\n",
              "      <th>std</th>\n",
              "      <td>0.148856</td>\n",
              "      <td>0.240436</td>\n",
              "      <td>0.383749</td>\n",
              "      <td>0.455145</td>\n",
              "      <td>10.086097</td>\n",
              "      <td>10.086097</td>\n",
              "      <td>1.330646</td>\n",
              "      <td>1.312066</td>\n",
              "      <td>1.613896</td>\n",
              "    </tr>\n",
              "    <tr>\n",
              "      <th>min</th>\n",
              "      <td>0.800000</td>\n",
              "      <td>0.600000</td>\n",
              "      <td>0.200000</td>\n",
              "      <td>0.140000</td>\n",
              "      <td>15.000000</td>\n",
              "      <td>1928.000000</td>\n",
              "      <td>1.000000</td>\n",
              "      <td>1.000000</td>\n",
              "      <td>1.000000</td>\n",
              "    </tr>\n",
              "    <tr>\n",
              "      <th>25%</th>\n",
              "      <td>0.900000</td>\n",
              "      <td>0.900000</td>\n",
              "      <td>1.000000</td>\n",
              "      <td>0.790000</td>\n",
              "      <td>24.000000</td>\n",
              "      <td>1982.000000</td>\n",
              "      <td>4.000000</td>\n",
              "      <td>4.000000</td>\n",
              "      <td>2.000000</td>\n",
              "    </tr>\n",
              "    <tr>\n",
              "      <th>50%</th>\n",
              "      <td>1.000000</td>\n",
              "      <td>1.000000</td>\n",
              "      <td>1.000000</td>\n",
              "      <td>1.000000</td>\n",
              "      <td>29.000000</td>\n",
              "      <td>1990.000000</td>\n",
              "      <td>5.000000</td>\n",
              "      <td>5.000000</td>\n",
              "      <td>4.000000</td>\n",
              "    </tr>\n",
              "    <tr>\n",
              "      <th>75%</th>\n",
              "      <td>1.000000</td>\n",
              "      <td>1.000000</td>\n",
              "      <td>1.000000</td>\n",
              "      <td>1.010000</td>\n",
              "      <td>37.000000</td>\n",
              "      <td>1995.000000</td>\n",
              "      <td>5.000000</td>\n",
              "      <td>5.000000</td>\n",
              "      <td>5.000000</td>\n",
              "    </tr>\n",
              "    <tr>\n",
              "      <th>max</th>\n",
              "      <td>1.500000</td>\n",
              "      <td>1.900000</td>\n",
              "      <td>3.800000</td>\n",
              "      <td>6.470000</td>\n",
              "      <td>91.000000</td>\n",
              "      <td>2004.000000</td>\n",
              "      <td>5.000000</td>\n",
              "      <td>5.000000</td>\n",
              "      <td>5.000000</td>\n",
              "    </tr>\n",
              "  </tbody>\n",
              "</table>\n",
              "</div>"
            ],
            "text/plain": [
              "       Gender.Weights  Age Group.Weights  ...  EconomicImpact  GovernmentTrust\n",
              "count     3988.000000        3988.000000  ...     3988.000000      3988.000000\n",
              "mean         1.002533           0.997091  ...        4.285607         3.454614\n",
              "std          0.148856           0.240436  ...        1.312066         1.613896\n",
              "min          0.800000           0.600000  ...        1.000000         1.000000\n",
              "25%          0.900000           0.900000  ...        4.000000         2.000000\n",
              "50%          1.000000           1.000000  ...        5.000000         4.000000\n",
              "75%          1.000000           1.000000  ...        5.000000         5.000000\n",
              "max          1.500000           1.900000  ...        5.000000         5.000000\n",
              "\n",
              "[8 rows x 9 columns]"
            ]
          },
          "metadata": {
            "tags": []
          },
          "execution_count": 75
        }
      ]
    },
    {
      "cell_type": "markdown",
      "metadata": {
        "id": "4MHKAyUdpV5-",
        "colab_type": "text"
      },
      "source": [
        "###Quick Analysis Summary\n",
        "\n",
        "*   Average Age = **31.289870**\n",
        "*   Min Age = **15 yrs**, Max Age = **91 yrs** Std Age = **10 yrs**\n",
        "*   Average Level of Concern = **4.312939** out of 5\n",
        "*   Average Perceived Economic Impact = **4.285607** out of 5\n",
        "*   Average Government Trust = **3.454614** out of 5\n",
        "\n"
      ]
    },
    {
      "cell_type": "markdown",
      "metadata": {
        "id": "0tLZketcqrKt",
        "colab_type": "text"
      },
      "source": [
        "#Response & Reaction To COVID-19\n",
        "\n",
        "In this section I analyze the response and concerns the various populations are having with regarding coronavirus"
      ]
    },
    {
      "cell_type": "markdown",
      "metadata": {
        "id": "AtKCVrMxtt8U",
        "colab_type": "text"
      },
      "source": [
        "## Is Everyone Taking Preventative Measures?\n",
        "\n",
        "No. Reflected in the survey data is a present albiet small percentage of people who are not taking preventative measures against the pandemic. **It will be interesting to investigate the rationale of that particular group.**"
      ]
    },
    {
      "cell_type": "code",
      "metadata": {
        "id": "9HF5Mwv8t4DF",
        "colab_type": "code",
        "colab": {}
      },
      "source": [
        "opinions_df = lambda q: sqldf(q, globals())\n",
        "query = \"\"\"\n",
        "SELECT\n",
        "    count(*) as TAKING_PREVENTATIVE_STEPS\n",
        "FROM\n",
        "    africa_df p\n",
        "WHERE\n",
        "    p.VirusPrevention LIKE '%yes%'\n",
        "ORDER BY\n",
        "    TAKING_PREVENTATIVE_STEPS DESC\n",
        "LIMIT 10;\n",
        "\"\"\"\n",
        "df_temp = opinions_df(query)\n",
        "df_temp.head()\n",
        "taking_measures = df_temp.iloc[0][0]"
      ],
      "execution_count": 0,
      "outputs": []
    },
    {
      "cell_type": "code",
      "metadata": {
        "id": "IpLLkpPi8bk8",
        "colab_type": "code",
        "colab": {}
      },
      "source": [
        "opinions_df = lambda q: sqldf(q, globals())\n",
        "query = \"\"\"\n",
        "SELECT\n",
        "    count(*) as NOT_TAKING_PREVENTATIVE_STEPS\n",
        "FROM\n",
        "    africa_df p\n",
        "WHERE\n",
        "    p.VirusPrevention LIKE '%no%'\n",
        "ORDER BY\n",
        "    NOT_TAKING_PREVENTATIVE_STEPS DESC\n",
        "LIMIT 10;\n",
        "\"\"\"\n",
        "df_temp = opinions_df(query)\n",
        "not_taking_measures = df_temp.iloc[0][0]\n"
      ],
      "execution_count": 0,
      "outputs": []
    },
    {
      "cell_type": "code",
      "metadata": {
        "id": "0LtC4nYI94aU",
        "colab_type": "code",
        "colab": {
          "base_uri": "https://localhost:8080/",
          "height": 50
        },
        "outputId": "4f353b40-21ab-4bcf-e878-bc3f8d16d2b8"
      },
      "source": [
        "print(not_taking_measures)\n",
        "print(taking_measures)\n",
        "total_participant_count = not_taking_measures + taking_measures"
      ],
      "execution_count": 78,
      "outputs": [
        {
          "output_type": "stream",
          "text": [
            "156\n",
            "3832\n"
          ],
          "name": "stdout"
        }
      ]
    },
    {
      "cell_type": "markdown",
      "metadata": {
        "id": "JBk11tXILGzQ",
        "colab_type": "text"
      },
      "source": [
        "Out of the ~4000 survey participants,\n"
      ]
    },
    {
      "cell_type": "code",
      "metadata": {
        "id": "jFPTLlNh_nHf",
        "colab_type": "code",
        "colab": {
          "base_uri": "https://localhost:8080/",
          "height": 33
        },
        "outputId": "121c499e-3714-423d-be0e-fb4251a1f149"
      },
      "source": [
        "print(3832/total_participant_count)"
      ],
      "execution_count": 79,
      "outputs": [
        {
          "output_type": "stream",
          "text": [
            "0.9608826479438315\n"
          ],
          "name": "stdout"
        }
      ]
    },
    {
      "cell_type": "code",
      "metadata": {
        "id": "7Bs_IF4my03T",
        "colab_type": "code",
        "colab": {
          "base_uri": "https://localhost:8080/",
          "height": 297
        },
        "outputId": "1c8ea0b2-4cdb-4bbc-b2e6-552d358568fb"
      },
      "source": [
        "labels = ['Taking Measures', 'Not Taking Measures']\n",
        "sizes = [taking_measures, not_taking_measures]\n",
        "colors = ['yellowgreen', 'gold']\n",
        "patches, texts = plt.pie(sizes, colors=colors, shadow=True, startangle=0)\n",
        "plt.legend(patches, labels, loc=\"best\")\n",
        "plt.axis('equal')\n",
        "plt.tight_layout()\n",
        "plt.show()"
      ],
      "execution_count": 80,
      "outputs": [
        {
          "output_type": "display_data",
          "data": {
            "image/png": "[encoded data removed]",
            "text/plain": [
              "<Figure size 432x288 with 1 Axes>"
            ]
          },
          "metadata": {
            "tags": []
          }
        }
      ]
    },
    {
      "cell_type": "markdown",
      "metadata": {
        "id": "ulg4uSeT7vkj",
        "colab_type": "text"
      },
      "source": [
        "### Now let's do it again but by country"
      ]
    },
    {
      "cell_type": "code",
      "metadata": {
        "id": "Tw_1QjCBjpLC",
        "colab_type": "code",
        "colab": {
          "base_uri": "https://localhost:8080/",
          "height": 200
        },
        "outputId": "334d0589-a6fc-453a-80b4-4b87eef3809c"
      },
      "source": [
        "# countries_surveyed = africa_df['Country'].unique()\n",
        "countries_surveyed_df = lambda q: sqldf(q, globals())\n",
        "query = \"\"\"\n",
        "SELECT\n",
        "    country, count(*) as count\n",
        "FROM\n",
        "    africa_df p\n",
        "WHERE\n",
        "    p.VirusPrevention LIKE '%no%'\n",
        "GROUP BY\n",
        "    Country\n",
        "ORDER BY\n",
        "    count DESC\n",
        "\"\"\"\n",
        "df_temp = countries_surveyed_df(query)\n",
        "# not_taking_measures = df_temp.iloc[0][0]\n",
        "print(df_temp)\n",
        "color_list = ['aquamarine','slateblue','gold','salmon','mediumaquamarine','orchid','dodgerblue','olive','slategrey']"
      ],
      "execution_count": 139,
      "outputs": [
        {
          "output_type": "stream",
          "text": [
            "                            Country  count\n",
            "0       Ivory Coast (Cote D'Ivoire)     27\n",
            "1                        Mozambique     23\n",
            "2  Democratic Republic of the Congo     21\n",
            "3                             Benin     18\n",
            "4                            Zambia     17\n",
            "5                             Kenya     14\n",
            "6                             Ghana     13\n",
            "7                           Nigeria      9\n",
            "8                            Rwanda      9\n",
            "9                      South Africa      5\n"
          ],
          "name": "stdout"
        }
      ]
    },
    {
      "cell_type": "code",
      "metadata": {
        "id": "zJ9rBDanpT9o",
        "colab_type": "code",
        "colab": {
          "base_uri": "https://localhost:8080/",
          "height": 676
        },
        "outputId": "63a8ba7c-5826-4e4e-f42c-2474108e1495"
      },
      "source": [
        "import matplotlib.pyplot as plt; plt.rcdefaults()\n",
        "\n",
        "objects = labels\n",
        "y_pos = np.arange(len(objects))\n",
        "performance = sizes\n",
        "\n",
        "plt.bar(y_pos, performance, align='center', alpha=0.5, color=\"teal\")\n",
        "plt.xticks(y_pos, objects, rotation = \"vertical\")\n",
        "plt.ylabel('Participant Count')\n",
        "plt.title('Participants not taking Preventative Measures by Country')\n",
        "plt.show()"
      ],
      "execution_count": 177,
      "outputs": [
        {
          "output_type": "display_data",
          "data": {
            "image/png": "[encoded data removed]",
            "text/plain": [
              "<Figure size 640x480 with 1 Axes>"
            ]
          },
          "metadata": {
            "tags": []
          }
        }
      ]
    },
    {
      "cell_type": "markdown",
      "metadata": {
        "id": "SdkXy9LSsWRJ",
        "colab_type": "text"
      },
      "source": [
        "## Out of those not participating, what were their biggest reasons and concerns?"
      ]
    },
    {
      "cell_type": "markdown",
      "metadata": {
        "id": "g6Acr81mfLLu",
        "colab_type": "text"
      },
      "source": [
        "## The Respondents all listed their biggest challenges\n",
        "Some of these challenges are the same thing expressed in different ways. I will combine them"
      ]
    },
    {
      "cell_type": "code",
      "metadata": {
        "id": "iOhIIX4nSItJ",
        "colab_type": "code",
        "colab": {
          "base_uri": "https://localhost:8080/",
          "height": 233
        },
        "outputId": "8855d050-13a1-4fa4-bf4e-82f9826a0351"
      },
      "source": [
        "challenge_array = africa_df['BiggestChallenge'].unique()\n",
        "challenge_counts = africa_df['BiggestChallenge'].value_counts()\n",
        "print(challenge_counts)\n",
        "challenge_counts_df = pd.DataFrame(challenge_counts)\n",
        "challenge_counts_df.rename( columns={list(challenge_counts_df)[0]:'Desc', 'BiggestChallenge':'Count'}, inplace=True )\n",
        "challenge_counts_df.head()\n",
        "print(challenge_counts_df.columns)"
      ],
      "execution_count": 44,
      "outputs": [
        {
          "output_type": "stream",
          "text": [
            "Money                                                       67\n",
            "Corona virus                                                58\n",
            "Coronavirus                                                 36\n",
            "Food                                                        34\n",
            "Covid 19                                                    27\n",
            "                                                            ..\n",
            "Staying indoor without income                                1\n",
            "My biggest challenge today is that I have no food to eat     1\n",
            "Luck of proper transport to town                             1\n",
            "Staying at home without any financial support                1\n",
            "It is the issue of Corronavirus                              1\n",
            "Name: BiggestChallenge, Length: 1388, dtype: int64\n",
            "Index(['Count'], dtype='object')\n"
          ],
          "name": "stdout"
        }
      ]
    },
    {
      "cell_type": "code",
      "metadata": {
        "id": "xKa1mgNQiywc",
        "colab_type": "code",
        "colab": {
          "base_uri": "https://localhost:8080/",
          "height": 287
        },
        "outputId": "b872d978-7021-4065-9084-5d409cac9d25"
      },
      "source": [
        "challenge_counts_df.head()"
      ],
      "execution_count": 46,
      "outputs": [
        {
          "output_type": "execute_result",
          "data": {
            "text/html": [
              "<div>\n",
              "<style scoped>\n",
              "    .dataframe tbody tr th:only-of-type {\n",
              "        vertical-align: middle;\n",
              "    }\n",
              "\n",
              "    .dataframe tbody tr th {\n",
              "        vertical-align: top;\n",
              "    }\n",
              "\n",
              "    .dataframe thead th {\n",
              "        text-align: right;\n",
              "    }\n",
              "</style>\n",
              "<table border=\"1\" class=\"dataframe\">\n",
              "  <thead>\n",
              "    <tr style=\"text-align: right;\">\n",
              "      <th></th>\n",
              "      <th>Count</th>\n",
              "    </tr>\n",
              "  </thead>\n",
              "  <tbody>\n",
              "    <tr>\n",
              "      <th>count</th>\n",
              "      <td>1388.000000</td>\n",
              "    </tr>\n",
              "    <tr>\n",
              "      <th>mean</th>\n",
              "      <td>1.440922</td>\n",
              "    </tr>\n",
              "    <tr>\n",
              "      <th>std</th>\n",
              "      <td>3.205546</td>\n",
              "    </tr>\n",
              "    <tr>\n",
              "      <th>min</th>\n",
              "      <td>1.000000</td>\n",
              "    </tr>\n",
              "    <tr>\n",
              "      <th>25%</th>\n",
              "      <td>1.000000</td>\n",
              "    </tr>\n",
              "    <tr>\n",
              "      <th>50%</th>\n",
              "      <td>1.000000</td>\n",
              "    </tr>\n",
              "    <tr>\n",
              "      <th>75%</th>\n",
              "      <td>1.000000</td>\n",
              "    </tr>\n",
              "    <tr>\n",
              "      <th>max</th>\n",
              "      <td>67.000000</td>\n",
              "    </tr>\n",
              "  </tbody>\n",
              "</table>\n",
              "</div>"
            ],
            "text/plain": [
              "             Count\n",
              "count  1388.000000\n",
              "mean      1.440922\n",
              "std       3.205546\n",
              "min       1.000000\n",
              "25%       1.000000\n",
              "50%       1.000000\n",
              "75%       1.000000\n",
              "max      67.000000"
            ]
          },
          "metadata": {
            "tags": []
          },
          "execution_count": 46
        }
      ]
    },
    {
      "cell_type": "code",
      "metadata": {
        "id": "gyrGgN0xgNcs",
        "colab_type": "code",
        "colab": {
          "base_uri": "https://localhost:8080/",
          "height": 856
        },
        "outputId": "fe8a73c5-e16e-4dbd-bd9e-4b9f92e81f4b"
      },
      "source": [
        "challenge_counts_df = pd.DataFrame(challenge_counts)\n",
        "challenge_counts_df_q = lambda q: sqldf(q, globals())\n",
        "query = \"\"\"\n",
        "SELECT \n",
        "    sum(*)\n",
        "FROM\n",
        "    challenge_counts_df c\n",
        "WHERE\n",
        "    c.BiggestChallenge LIKE '%covid%, %coronavirus%, %corona%, %virus%'\n",
        "LIMIT 10;\n",
        "\"\"\"\n",
        "df_temp = challenge_counts_df_q(query)\n",
        "df_temp.head()"
      ],
      "execution_count": 26,
      "outputs": [
        {
          "output_type": "error",
          "ename": "PandaSQLException",
          "evalue": "ignored",
          "traceback": [
            "\u001b[0;31m---------------------------------------------------------------------------\u001b[0m",
            "\u001b[0;31mOperationalError\u001b[0m                          Traceback (most recent call last)",
            "\u001b[0;32m/usr/local/lib/python3.6/dist-packages/sqlalchemy/engine/base.py\u001b[0m in \u001b[0;36m_execute_context\u001b[0;34m(self, dialect, constructor, statement, parameters, *args)\u001b[0m\n\u001b[1;32m   1247\u001b[0m                     self.dialect.do_execute(\n\u001b[0;32m-> 1248\u001b[0;31m                         \u001b[0mcursor\u001b[0m\u001b[0;34m,\u001b[0m \u001b[0mstatement\u001b[0m\u001b[0;34m,\u001b[0m \u001b[0mparameters\u001b[0m\u001b[0;34m,\u001b[0m \u001b[0mcontext\u001b[0m\u001b[0;34m\u001b[0m\u001b[0;34m\u001b[0m\u001b[0m\n\u001b[0m\u001b[1;32m   1249\u001b[0m                     )\n",
            "\u001b[0;32m/usr/local/lib/python3.6/dist-packages/sqlalchemy/engine/default.py\u001b[0m in \u001b[0;36mdo_execute\u001b[0;34m(self, cursor, statement, parameters, context)\u001b[0m\n\u001b[1;32m    589\u001b[0m     \u001b[0;32mdef\u001b[0m \u001b[0mdo_execute\u001b[0m\u001b[0;34m(\u001b[0m\u001b[0mself\u001b[0m\u001b[0;34m,\u001b[0m \u001b[0mcursor\u001b[0m\u001b[0;34m,\u001b[0m \u001b[0mstatement\u001b[0m\u001b[0;34m,\u001b[0m \u001b[0mparameters\u001b[0m\u001b[0;34m,\u001b[0m \u001b[0mcontext\u001b[0m\u001b[0;34m=\u001b[0m\u001b[0;32mNone\u001b[0m\u001b[0;34m)\u001b[0m\u001b[0;34m:\u001b[0m\u001b[0;34m\u001b[0m\u001b[0;34m\u001b[0m\u001b[0m\n\u001b[0;32m--> 590\u001b[0;31m         \u001b[0mcursor\u001b[0m\u001b[0;34m.\u001b[0m\u001b[0mexecute\u001b[0m\u001b[0;34m(\u001b[0m\u001b[0mstatement\u001b[0m\u001b[0;34m,\u001b[0m \u001b[0mparameters\u001b[0m\u001b[0;34m)\u001b[0m\u001b[0;34m\u001b[0m\u001b[0;34m\u001b[0m\u001b[0m\n\u001b[0m\u001b[1;32m    591\u001b[0m \u001b[0;34m\u001b[0m\u001b[0m\n",
            "\u001b[0;31mOperationalError\u001b[0m: wrong number of arguments to function sum()",
            "\nThe above exception was the direct cause of the following exception:\n",
            "\u001b[0;31mOperationalError\u001b[0m                          Traceback (most recent call last)",
            "\u001b[0;32m/usr/local/lib/python3.6/dist-packages/pandasql/sqldf.py\u001b[0m in \u001b[0;36m__call__\u001b[0;34m(self, query, env)\u001b[0m\n\u001b[1;32m     60\u001b[0m             \u001b[0;32mtry\u001b[0m\u001b[0;34m:\u001b[0m\u001b[0;34m\u001b[0m\u001b[0;34m\u001b[0m\u001b[0m\n\u001b[0;32m---> 61\u001b[0;31m                 \u001b[0mresult\u001b[0m \u001b[0;34m=\u001b[0m \u001b[0mread_sql\u001b[0m\u001b[0;34m(\u001b[0m\u001b[0mquery\u001b[0m\u001b[0;34m,\u001b[0m \u001b[0mconn\u001b[0m\u001b[0;34m)\u001b[0m\u001b[0;34m\u001b[0m\u001b[0;34m\u001b[0m\u001b[0m\n\u001b[0m\u001b[1;32m     62\u001b[0m             \u001b[0;32mexcept\u001b[0m \u001b[0mDatabaseError\u001b[0m \u001b[0;32mas\u001b[0m \u001b[0mex\u001b[0m\u001b[0;34m:\u001b[0m\u001b[0;34m\u001b[0m\u001b[0;34m\u001b[0m\u001b[0m\n",
            "\u001b[0;32m/usr/local/lib/python3.6/dist-packages/pandas/io/sql.py\u001b[0m in \u001b[0;36mread_sql\u001b[0;34m(sql, con, index_col, coerce_float, params, parse_dates, columns, chunksize)\u001b[0m\n\u001b[1;32m    437\u001b[0m             \u001b[0mparse_dates\u001b[0m\u001b[0;34m=\u001b[0m\u001b[0mparse_dates\u001b[0m\u001b[0;34m,\u001b[0m\u001b[0;34m\u001b[0m\u001b[0;34m\u001b[0m\u001b[0m\n\u001b[0;32m--> 438\u001b[0;31m             \u001b[0mchunksize\u001b[0m\u001b[0;34m=\u001b[0m\u001b[0mchunksize\u001b[0m\u001b[0;34m,\u001b[0m\u001b[0;34m\u001b[0m\u001b[0;34m\u001b[0m\u001b[0m\n\u001b[0m\u001b[1;32m    439\u001b[0m         )\n",
            "\u001b[0;32m/usr/local/lib/python3.6/dist-packages/pandas/io/sql.py\u001b[0m in \u001b[0;36mread_query\u001b[0;34m(self, sql, index_col, coerce_float, parse_dates, params, chunksize)\u001b[0m\n\u001b[1;32m   1217\u001b[0m \u001b[0;34m\u001b[0m\u001b[0m\n\u001b[0;32m-> 1218\u001b[0;31m         \u001b[0mresult\u001b[0m \u001b[0;34m=\u001b[0m \u001b[0mself\u001b[0m\u001b[0;34m.\u001b[0m\u001b[0mexecute\u001b[0m\u001b[0;34m(\u001b[0m\u001b[0;34m*\u001b[0m\u001b[0margs\u001b[0m\u001b[0;34m)\u001b[0m\u001b[0;34m\u001b[0m\u001b[0;34m\u001b[0m\u001b[0m\n\u001b[0m\u001b[1;32m   1219\u001b[0m         \u001b[0mcolumns\u001b[0m \u001b[0;34m=\u001b[0m \u001b[0mresult\u001b[0m\u001b[0;34m.\u001b[0m\u001b[0mkeys\u001b[0m\u001b[0;34m(\u001b[0m\u001b[0;34m)\u001b[0m\u001b[0;34m\u001b[0m\u001b[0;34m\u001b[0m\u001b[0m\n",
            "\u001b[0;32m/usr/local/lib/python3.6/dist-packages/pandas/io/sql.py\u001b[0m in \u001b[0;36mexecute\u001b[0;34m(self, *args, **kwargs)\u001b[0m\n\u001b[1;32m   1086\u001b[0m         \u001b[0;34m\"\"\"Simple passthrough to SQLAlchemy connectable\"\"\"\u001b[0m\u001b[0;34m\u001b[0m\u001b[0;34m\u001b[0m\u001b[0m\n\u001b[0;32m-> 1087\u001b[0;31m         \u001b[0;32mreturn\u001b[0m \u001b[0mself\u001b[0m\u001b[0;34m.\u001b[0m\u001b[0mconnectable\u001b[0m\u001b[0;34m.\u001b[0m\u001b[0mexecute\u001b[0m\u001b[0;34m(\u001b[0m\u001b[0;34m*\u001b[0m\u001b[0margs\u001b[0m\u001b[0;34m,\u001b[0m \u001b[0;34m**\u001b[0m\u001b[0mkwargs\u001b[0m\u001b[0;34m)\u001b[0m\u001b[0;34m\u001b[0m\u001b[0;34m\u001b[0m\u001b[0m\n\u001b[0m\u001b[1;32m   1088\u001b[0m \u001b[0;34m\u001b[0m\u001b[0m\n",
            "\u001b[0;32m/usr/local/lib/python3.6/dist-packages/sqlalchemy/engine/base.py\u001b[0m in \u001b[0;36mexecute\u001b[0;34m(self, object_, *multiparams, **params)\u001b[0m\n\u001b[1;32m    975\u001b[0m         \u001b[0;32mif\u001b[0m \u001b[0misinstance\u001b[0m\u001b[0;34m(\u001b[0m\u001b[0mobject_\u001b[0m\u001b[0;34m,\u001b[0m \u001b[0mutil\u001b[0m\u001b[0;34m.\u001b[0m\u001b[0mstring_types\u001b[0m\u001b[0;34m[\u001b[0m\u001b[0;36m0\u001b[0m\u001b[0;34m]\u001b[0m\u001b[0;34m)\u001b[0m\u001b[0;34m:\u001b[0m\u001b[0;34m\u001b[0m\u001b[0;34m\u001b[0m\u001b[0m\n\u001b[0;32m--> 976\u001b[0;31m             \u001b[0;32mreturn\u001b[0m \u001b[0mself\u001b[0m\u001b[0;34m.\u001b[0m\u001b[0m_execute_text\u001b[0m\u001b[0;34m(\u001b[0m\u001b[0mobject_\u001b[0m\u001b[0;34m,\u001b[0m \u001b[0mmultiparams\u001b[0m\u001b[0;34m,\u001b[0m \u001b[0mparams\u001b[0m\u001b[0;34m)\u001b[0m\u001b[0;34m\u001b[0m\u001b[0;34m\u001b[0m\u001b[0m\n\u001b[0m\u001b[1;32m    977\u001b[0m         \u001b[0;32mtry\u001b[0m\u001b[0;34m:\u001b[0m\u001b[0;34m\u001b[0m\u001b[0;34m\u001b[0m\u001b[0m\n",
            "\u001b[0;32m/usr/local/lib/python3.6/dist-packages/sqlalchemy/engine/base.py\u001b[0m in \u001b[0;36m_execute_text\u001b[0;34m(self, statement, multiparams, params)\u001b[0m\n\u001b[1;32m   1150\u001b[0m             \u001b[0mstatement\u001b[0m\u001b[0;34m,\u001b[0m\u001b[0;34m\u001b[0m\u001b[0;34m\u001b[0m\u001b[0m\n\u001b[0;32m-> 1151\u001b[0;31m             \u001b[0mparameters\u001b[0m\u001b[0;34m,\u001b[0m\u001b[0;34m\u001b[0m\u001b[0;34m\u001b[0m\u001b[0m\n\u001b[0m\u001b[1;32m   1152\u001b[0m         )\n",
            "\u001b[0;32m/usr/local/lib/python3.6/dist-packages/sqlalchemy/engine/base.py\u001b[0m in \u001b[0;36m_execute_context\u001b[0;34m(self, dialect, constructor, statement, parameters, *args)\u001b[0m\n\u001b[1;32m   1287\u001b[0m             self._handle_dbapi_exception(\n\u001b[0;32m-> 1288\u001b[0;31m                 \u001b[0me\u001b[0m\u001b[0;34m,\u001b[0m \u001b[0mstatement\u001b[0m\u001b[0;34m,\u001b[0m \u001b[0mparameters\u001b[0m\u001b[0;34m,\u001b[0m \u001b[0mcursor\u001b[0m\u001b[0;34m,\u001b[0m \u001b[0mcontext\u001b[0m\u001b[0;34m\u001b[0m\u001b[0;34m\u001b[0m\u001b[0m\n\u001b[0m\u001b[1;32m   1289\u001b[0m             )\n",
            "\u001b[0;32m/usr/local/lib/python3.6/dist-packages/sqlalchemy/engine/base.py\u001b[0m in \u001b[0;36m_handle_dbapi_exception\u001b[0;34m(self, e, statement, parameters, cursor, context)\u001b[0m\n\u001b[1;32m   1481\u001b[0m                 util.raise_(\n\u001b[0;32m-> 1482\u001b[0;31m                     \u001b[0msqlalchemy_exception\u001b[0m\u001b[0;34m,\u001b[0m \u001b[0mwith_traceback\u001b[0m\u001b[0;34m=\u001b[0m\u001b[0mexc_info\u001b[0m\u001b[0;34m[\u001b[0m\u001b[0;36m2\u001b[0m\u001b[0;34m]\u001b[0m\u001b[0;34m,\u001b[0m \u001b[0mfrom_\u001b[0m\u001b[0;34m=\u001b[0m\u001b[0me\u001b[0m\u001b[0;34m\u001b[0m\u001b[0;34m\u001b[0m\u001b[0m\n\u001b[0m\u001b[1;32m   1483\u001b[0m                 )\n",
            "\u001b[0;32m/usr/local/lib/python3.6/dist-packages/sqlalchemy/util/compat.py\u001b[0m in \u001b[0;36mraise_\u001b[0;34m(***failed resolving arguments***)\u001b[0m\n\u001b[1;32m    177\u001b[0m         \u001b[0;32mtry\u001b[0m\u001b[0;34m:\u001b[0m\u001b[0;34m\u001b[0m\u001b[0;34m\u001b[0m\u001b[0m\n\u001b[0;32m--> 178\u001b[0;31m             \u001b[0;32mraise\u001b[0m \u001b[0mexception\u001b[0m\u001b[0;34m\u001b[0m\u001b[0;34m\u001b[0m\u001b[0m\n\u001b[0m\u001b[1;32m    179\u001b[0m         \u001b[0;32mfinally\u001b[0m\u001b[0;34m:\u001b[0m\u001b[0;34m\u001b[0m\u001b[0;34m\u001b[0m\u001b[0m\n",
            "\u001b[0;32m/usr/local/lib/python3.6/dist-packages/sqlalchemy/engine/base.py\u001b[0m in \u001b[0;36m_execute_context\u001b[0;34m(self, dialect, constructor, statement, parameters, *args)\u001b[0m\n\u001b[1;32m   1247\u001b[0m                     self.dialect.do_execute(\n\u001b[0;32m-> 1248\u001b[0;31m                         \u001b[0mcursor\u001b[0m\u001b[0;34m,\u001b[0m \u001b[0mstatement\u001b[0m\u001b[0;34m,\u001b[0m \u001b[0mparameters\u001b[0m\u001b[0;34m,\u001b[0m \u001b[0mcontext\u001b[0m\u001b[0;34m\u001b[0m\u001b[0;34m\u001b[0m\u001b[0m\n\u001b[0m\u001b[1;32m   1249\u001b[0m                     )\n",
            "\u001b[0;32m/usr/local/lib/python3.6/dist-packages/sqlalchemy/engine/default.py\u001b[0m in \u001b[0;36mdo_execute\u001b[0;34m(self, cursor, statement, parameters, context)\u001b[0m\n\u001b[1;32m    589\u001b[0m     \u001b[0;32mdef\u001b[0m \u001b[0mdo_execute\u001b[0m\u001b[0;34m(\u001b[0m\u001b[0mself\u001b[0m\u001b[0;34m,\u001b[0m \u001b[0mcursor\u001b[0m\u001b[0;34m,\u001b[0m \u001b[0mstatement\u001b[0m\u001b[0;34m,\u001b[0m \u001b[0mparameters\u001b[0m\u001b[0;34m,\u001b[0m \u001b[0mcontext\u001b[0m\u001b[0;34m=\u001b[0m\u001b[0;32mNone\u001b[0m\u001b[0;34m)\u001b[0m\u001b[0;34m:\u001b[0m\u001b[0;34m\u001b[0m\u001b[0;34m\u001b[0m\u001b[0m\n\u001b[0;32m--> 590\u001b[0;31m         \u001b[0mcursor\u001b[0m\u001b[0;34m.\u001b[0m\u001b[0mexecute\u001b[0m\u001b[0;34m(\u001b[0m\u001b[0mstatement\u001b[0m\u001b[0;34m,\u001b[0m \u001b[0mparameters\u001b[0m\u001b[0;34m)\u001b[0m\u001b[0;34m\u001b[0m\u001b[0;34m\u001b[0m\u001b[0m\n\u001b[0m\u001b[1;32m    591\u001b[0m \u001b[0;34m\u001b[0m\u001b[0m\n",
            "\u001b[0;31mOperationalError\u001b[0m: (sqlite3.OperationalError) wrong number of arguments to function sum()\n[SQL: \nSELECT \n    sum(*)\nFROM\n    challenge_counts_df c\nWHERE\n    c.BiggestChallenge LIKE '%covid%, %coronavirus%, %corona%, %virus%'\nLIMIT 10;\n]\n(Background on this error at: http://sqlalche.me/e/e3q8)",
            "\nDuring handling of the above exception, another exception occurred:\n",
            "\u001b[0;31mPandaSQLException\u001b[0m                         Traceback (most recent call last)",
            "\u001b[0;32m<ipython-input-26-f9b3a1a6d55d>\u001b[0m in \u001b[0;36m<module>\u001b[0;34m()\u001b[0m\n\u001b[1;32m     10\u001b[0m \u001b[0mLIMIT\u001b[0m \u001b[0;36m10\u001b[0m\u001b[0;34m;\u001b[0m\u001b[0;34m\u001b[0m\u001b[0;34m\u001b[0m\u001b[0m\n\u001b[1;32m     11\u001b[0m \"\"\"\n\u001b[0;32m---> 12\u001b[0;31m \u001b[0mdf_temp\u001b[0m \u001b[0;34m=\u001b[0m \u001b[0mchallenge_counts_df_q\u001b[0m\u001b[0;34m(\u001b[0m\u001b[0mquery\u001b[0m\u001b[0;34m)\u001b[0m\u001b[0;34m\u001b[0m\u001b[0;34m\u001b[0m\u001b[0m\n\u001b[0m\u001b[1;32m     13\u001b[0m \u001b[0mdf_temp\u001b[0m\u001b[0;34m.\u001b[0m\u001b[0mhead\u001b[0m\u001b[0;34m(\u001b[0m\u001b[0;34m)\u001b[0m\u001b[0;34m\u001b[0m\u001b[0;34m\u001b[0m\u001b[0m\n",
            "\u001b[0;32m<ipython-input-26-f9b3a1a6d55d>\u001b[0m in \u001b[0;36m<lambda>\u001b[0;34m(q)\u001b[0m\n\u001b[1;32m      1\u001b[0m \u001b[0mchallenge_counts_df\u001b[0m \u001b[0;34m=\u001b[0m \u001b[0mpd\u001b[0m\u001b[0;34m.\u001b[0m\u001b[0mDataFrame\u001b[0m\u001b[0;34m(\u001b[0m\u001b[0mchallenge_counts\u001b[0m\u001b[0;34m)\u001b[0m\u001b[0;34m\u001b[0m\u001b[0;34m\u001b[0m\u001b[0m\n\u001b[0;32m----> 2\u001b[0;31m \u001b[0mchallenge_counts_df_q\u001b[0m \u001b[0;34m=\u001b[0m \u001b[0;32mlambda\u001b[0m \u001b[0mq\u001b[0m\u001b[0;34m:\u001b[0m \u001b[0msqldf\u001b[0m\u001b[0;34m(\u001b[0m\u001b[0mq\u001b[0m\u001b[0;34m,\u001b[0m \u001b[0mglobals\u001b[0m\u001b[0;34m(\u001b[0m\u001b[0;34m)\u001b[0m\u001b[0;34m)\u001b[0m\u001b[0;34m\u001b[0m\u001b[0;34m\u001b[0m\u001b[0m\n\u001b[0m\u001b[1;32m      3\u001b[0m query = \"\"\"\n\u001b[1;32m      4\u001b[0m \u001b[0mSELECT\u001b[0m\u001b[0;34m\u001b[0m\u001b[0;34m\u001b[0m\u001b[0m\n\u001b[1;32m      5\u001b[0m     \u001b[0msum\u001b[0m\u001b[0;34m(\u001b[0m\u001b[0;34m*\u001b[0m\u001b[0;34m)\u001b[0m\u001b[0;34m\u001b[0m\u001b[0;34m\u001b[0m\u001b[0m\n",
            "\u001b[0;32m/usr/local/lib/python3.6/dist-packages/pandasql/sqldf.py\u001b[0m in \u001b[0;36msqldf\u001b[0;34m(query, env, db_uri)\u001b[0m\n\u001b[1;32m    154\u001b[0m     \u001b[0;34m>>\u001b[0m\u001b[0;34m>\u001b[0m \u001b[0msqldf\u001b[0m\u001b[0;34m(\u001b[0m\u001b[0;34m\"select avg(x) from df;\"\u001b[0m\u001b[0;34m,\u001b[0m \u001b[0mlocals\u001b[0m\u001b[0;34m(\u001b[0m\u001b[0;34m)\u001b[0m\u001b[0;34m)\u001b[0m\u001b[0;34m\u001b[0m\u001b[0;34m\u001b[0m\u001b[0m\n\u001b[1;32m    155\u001b[0m     \"\"\"\n\u001b[0;32m--> 156\u001b[0;31m     \u001b[0;32mreturn\u001b[0m \u001b[0mPandaSQL\u001b[0m\u001b[0;34m(\u001b[0m\u001b[0mdb_uri\u001b[0m\u001b[0;34m)\u001b[0m\u001b[0;34m(\u001b[0m\u001b[0mquery\u001b[0m\u001b[0;34m,\u001b[0m \u001b[0menv\u001b[0m\u001b[0;34m)\u001b[0m\u001b[0;34m\u001b[0m\u001b[0;34m\u001b[0m\u001b[0m\n\u001b[0m",
            "\u001b[0;32m/usr/local/lib/python3.6/dist-packages/pandasql/sqldf.py\u001b[0m in \u001b[0;36m__call__\u001b[0;34m(self, query, env)\u001b[0m\n\u001b[1;32m     61\u001b[0m                 \u001b[0mresult\u001b[0m \u001b[0;34m=\u001b[0m \u001b[0mread_sql\u001b[0m\u001b[0;34m(\u001b[0m\u001b[0mquery\u001b[0m\u001b[0;34m,\u001b[0m \u001b[0mconn\u001b[0m\u001b[0;34m)\u001b[0m\u001b[0;34m\u001b[0m\u001b[0;34m\u001b[0m\u001b[0m\n\u001b[1;32m     62\u001b[0m             \u001b[0;32mexcept\u001b[0m \u001b[0mDatabaseError\u001b[0m \u001b[0;32mas\u001b[0m \u001b[0mex\u001b[0m\u001b[0;34m:\u001b[0m\u001b[0;34m\u001b[0m\u001b[0;34m\u001b[0m\u001b[0m\n\u001b[0;32m---> 63\u001b[0;31m                 \u001b[0;32mraise\u001b[0m \u001b[0mPandaSQLException\u001b[0m\u001b[0;34m(\u001b[0m\u001b[0mex\u001b[0m\u001b[0;34m)\u001b[0m\u001b[0;34m\u001b[0m\u001b[0;34m\u001b[0m\u001b[0m\n\u001b[0m\u001b[1;32m     64\u001b[0m             \u001b[0;32mexcept\u001b[0m \u001b[0mResourceClosedError\u001b[0m\u001b[0;34m:\u001b[0m\u001b[0;34m\u001b[0m\u001b[0;34m\u001b[0m\u001b[0m\n\u001b[1;32m     65\u001b[0m                 \u001b[0;31m# query returns nothing\u001b[0m\u001b[0;34m\u001b[0m\u001b[0;34m\u001b[0m\u001b[0;34m\u001b[0m\u001b[0m\n",
            "\u001b[0;31mPandaSQLException\u001b[0m: (sqlite3.OperationalError) wrong number of arguments to function sum()\n[SQL: \nSELECT \n    sum(*)\nFROM\n    challenge_counts_df c\nWHERE\n    c.BiggestChallenge LIKE '%covid%, %coronavirus%, %corona%, %virus%'\nLIMIT 10;\n]\n(Background on this error at: http://sqlalche.me/e/e3q8)"
          ]
        }
      ]
    }
  ]
}